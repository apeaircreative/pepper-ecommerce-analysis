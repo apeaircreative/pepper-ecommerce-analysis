{
 "cells": [
  {
   "cell_type": "markdown",
   "metadata": {},
   "source": [
    "# Pepper Market Segment Analysis\n",
    "\n",
    "This notebook analyzes Pepper's effectiveness in serving the small-chested customer segment.\n",
    "\n",
    "## Business Question\n",
    "\"Is Pepper successfully capturing and retaining the underserved small-chested customer segment?\"\n",
    "\n",
    "## Analysis Approach\n",
    "1. Size Distribution Analysis\n",
    "2. Retention Rate by Segment\n",
    "3. Market Opportunity Sizing"
   ]
  },
  {
   "cell_type": "code",
   "execution_count": null,
   "metadata": {},
   "outputs": [],
   "source": [
    "# Import required libraries\n",
    "import pandas as pd\n",
    "import numpy as np\n",
    "import matplotlib.pyplot as plt\n",
    "import seaborn as sns\n",
    "from pathlib import Path\n",
    "\n",
    "# Set up plotting style\n",
    "plt.style.use('seaborn')\n",
    "sns.set_palette('deep')\n",
    "\n",
    "# Configure pandas display options\n",
    "pd.set_option('display.max_columns', None)\n",
    "pd.set_option('display.max_rows', 100)"
   ]
  },
  {
   "cell_type": "markdown",
   "metadata": {},
   "source": [
    "## Data Loading\n",
    "\n",
    "Load the transformed data that matches TheLook's schema:"
   ]
  },
  {
   "cell_type": "code",
   "execution_count": null,
   "metadata": {},
   "outputs": [],
   "source": [
    "# Set up data paths\n",
    "data_dir = Path('../data/pepper')\n",
    "\n",
    "# Load latest product data\n",
    "product_files = list(data_dir.glob('transformed_bra_products_*.csv'))\n",
    "latest_product_file = max(product_files)\n",
    "products_df = pd.read_csv(latest_product_file)\n",
    "\n",
    "# Load latest order data\n",
    "order_files = list(data_dir.glob('transformed_order_items_*.csv'))\n",
    "latest_order_file = max(order_files)\n",
    "orders_df = pd.read_csv(latest_order_file)\n",
    "\n",
    "print(f'Loaded {len(products_df)} products and {len(orders_df)} order items')"
   ]
  },
  {
   "cell_type": "markdown",
   "metadata": {},
   "source": [
    "## 1. Size Distribution Analysis\n",
    "\n",
    "Compare Pepper's size distribution to industry standards:"
   ]
  },
  {
   "cell_type": "code",
   "execution_count": null,
   "metadata": {},
   "outputs": [],
   "source": [
    "def analyze_size_distribution(products_df):\n",
    "    \"\"\"Analyze and visualize product size distribution.\"\"\"\n",
    "    # Extract size from SKU\n",
    "    products_df['size'] = products_df['sku'].str[-3:]\n",
    "    \n",
    "    # Define size segments\n",
    "    def get_segment(size):\n",
    "        if size[-1] in ['A', 'AA']:\n",
    "            return 'Core (A/AA)'\n",
    "        elif size[-1] == 'B':\n",
    "            return 'Extended (B)'\n",
    "        else:\n",
    "            return 'Other'\n",
    "    \n",
    "    products_df['segment'] = products_df['size'].apply(get_segment)\n",
    "    \n",
    "    # Plot distribution\n",
    "    plt.figure(figsize=(12, 6))\n",
    "    sns.countplot(data=products_df, x='segment')\n",
    "    plt.title('Product Distribution by Size Segment')\n",
    "    plt.xlabel('Size Segment')\n",
    "    plt.ylabel('Number of Products')\n",
    "    \n",
    "    return products_df\n",
    "\n",
    "# Analyze size distribution\n",
    "products_with_segments = analyze_size_distribution(products_df)\n",
    "\n",
    "# Show segment percentages\n",
    "segment_dist = products_with_segments['segment'].value_counts(normalize=True)\n",
    "print('\\nSegment Distribution:')\n",
    "print(segment_dist)"
   ]
  },
  {
   "cell_type": "markdown",
   "metadata": {},
   "source": [
    "## 2. Retention Rate Analysis\n",
    "\n",
    "Calculate and compare retention rates across segments:"
   ]
  },
  {
   "cell_type": "code",
   "execution_count": null,
   "metadata": {},
   "outputs": [],
   "source": [
    "def analyze_retention(orders_df, products_df):\n",
    "    \"\"\"Calculate retention rates by segment.\"\"\"\n",
    "    # Merge order items with products to get segments\n",
    "    orders_with_segments = orders_df.merge(\n",
    "        products_df[['id', 'segment']],\n",
    "        left_on='product_id',\n",
    "        right_on='id'\n",
    "    )\n",
    "    \n",
    "    # Calculate days between purchases for each customer\n",
    "    orders_with_segments['created_at'] = pd.to_datetime(orders_with_segments['created_at'])\n",
    "    orders_with_segments = orders_with_segments.sort_values(['user_id', 'created_at'])\n",
    "    \n",
    "    # Calculate retention (returning within 90 days)\n",
    "    def get_retention(group):\n",
    "        if len(group) < 2:\n",
    "            return 0\n",
    "        first_purchase = group['created_at'].iloc[0]\n",
    "        return (group['created_at'] - first_purchase).dt.days.between(1, 90).any()\n",
    "    \n",
    "    retention = orders_with_segments.groupby(['user_id', 'segment']).apply(get_retention)\n",
    "    retention_rates = retention.groupby('segment').mean()\n",
    "    \n",
    "    # Plot retention rates\n",
    "    plt.figure(figsize=(12, 6))\n",
    "    retention_rates.plot(kind='bar')\n",
    "    plt.title('90-Day Retention Rate by Segment')\n",
    "    plt.xlabel('Segment')\n",
    "    plt.ylabel('Retention Rate')\n",
    "    \n",
    "    return retention_rates\n",
    "\n",
    "# Calculate retention rates\n",
    "retention_rates = analyze_retention(orders_df, products_with_segments)\n",
    "print('\\nRetention Rates by Segment:')\n",
    "print(retention_rates)"
   ]
  },
  {
   "cell_type": "markdown",
   "metadata": {},
   "source": [
    "## 3. Market Opportunity Analysis\n",
    "\n",
    "Calculate revenue and growth metrics by segment:"
   ]
  },
  {
   "cell_type": "code",
   "execution_count": null,
   "metadata": {},
   "outputs": [],
   "source": [
    "def analyze_market_opportunity(orders_df, products_df):\n",
    "    \"\"\"Calculate revenue metrics by segment.\"\"\"\n",
    "    # Merge orders with products\n",
    "    revenue_data = orders_df.merge(\n",
    "        products_df[['id', 'segment', 'retail_price']],\n",
    "        left_on='product_id',\n",
    "        right_on='id'\n",
    "    )\n",
    "    \n",
    "    # Calculate revenue by segment\n",
    "    segment_revenue = revenue_data.groupby('segment')['sale_price'].sum()\n",
    "    \n",
    "    # Calculate average order value by segment\n",
    "    segment_aov = revenue_data.groupby('segment')['sale_price'].mean()\n",
    "    \n",
    "    # Plot revenue distribution\n",
    "    plt.figure(figsize=(12, 6))\n",
    "    segment_revenue.plot(kind='pie', autopct='%1.1f%%')\n",
    "    plt.title('Revenue Distribution by Segment')\n",
    "    \n",
    "    return pd.DataFrame({\n",
    "        'Total Revenue': segment_revenue,\n",
    "        'Average Order Value': segment_aov\n",
    "    })\n",
    "\n",
    "# Calculate market metrics\n",
    "market_metrics = analyze_market_opportunity(orders_df, products_with_segments)\n",
    "print('\\nMarket Metrics by Segment:')\n",
    "print(market_metrics)"
   ]
  },
  {
   "cell_type": "markdown",
   "metadata": {},
   "source": [
    "## Key Findings\n",
    "\n",
    "1. Size Distribution\n",
    "   - X% of products in core segment (A/AA cups)\n",
    "   - Compared to Y% industry average\n",
    "\n",
    "2. Retention Rates\n",
    "   - Z% higher retention in core segment\n",
    "   - Indicates product-market fit\n",
    "\n",
    "3. Market Opportunity\n",
    "   - $W million revenue in core segment\n",
    "   - V% higher AOV in target market\n",
    "\n",
    "## Business Recommendations\n",
    "\n",
    "1. Product Strategy\n",
    "   - Focus on expanding core size range\n",
    "   - Maintain price positioning\n",
    "\n",
    "2. Customer Retention\n",
    "   - Leverage high retention in marketing\n",
    "   - Create targeted loyalty program\n",
    "\n",
    "3. Growth Opportunities\n",
    "   - Expand in high-performing segments\n",
    "   - Target look-alike customers"
   ]
  }
 ],
 "metadata": {
  "kernelspec": {
   "display_name": "Python 3 (ipykernel)",
   "language": "python",
   "name": "python3"
  },
  "language_info": {
   "codemirror_mode": {
    "name": "ipython",
    "version": 3
   },
   "file_extension": ".py",
   "mimetype": "text/x-python",
   "name": "python",
   "nbconvert_exporter": "python",
   "pygments_lexer": "ipython3",
   "version": "3.12.7"
  }
 },
 "nbformat": 4,
 "nbformat_minor": 4
}
